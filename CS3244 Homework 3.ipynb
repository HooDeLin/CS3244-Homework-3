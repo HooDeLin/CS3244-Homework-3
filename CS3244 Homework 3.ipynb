{
 "cells": [
  {
   "cell_type": "markdown",
   "metadata": {
    "collapsed": true
   },
   "source": [
    "# Homework #3 - Rossman Store Sales"
   ]
  },
  {
   "cell_type": "markdown",
   "metadata": {},
   "source": [
    "Group Members:\n",
    "\n",
    "Hoo De Lin (A0126576X)\n",
    "\n",
    "Yap Han Chiang (A0125168E)"
   ]
  },
  {
   "cell_type": "markdown",
   "metadata": {},
   "source": [
    "# Analyzing the data:"
   ]
  },
  {
   "cell_type": "markdown",
   "metadata": {},
   "source": [
    "Before we try figuring out which model to fit in, we need to understand the data, and clean/modify the data to be able to feed into any model"
   ]
  },
  {
   "cell_type": "markdown",
   "metadata": {},
   "source": [
    "The feature that I believe are quite important are:\n",
    "\n",
    "- Competition\n",
    "- Holidays\n",
    "- Type of stores\n",
    "- Type of day (Monday - Sunday)\n",
    "- Having promotions\n",
    "- Promo2 since"
   ]
  },
  {
   "cell_type": "markdown",
   "metadata": {},
   "source": [
    "Interesting to note is that, "
   ]
  },
  {
   "cell_type": "code",
   "execution_count": 2,
   "metadata": {
    "collapsed": true
   },
   "outputs": [],
   "source": [
    "import numpy as np\n",
    "import pandas as pd\n",
    "import matplotlib.pyplot as pl\n",
    "%matplotlib inline\n",
    "import seaborn as sb \n",
    "from sklearn import svm\n"
   ]
  },
  {
   "cell_type": "code",
   "execution_count": 31,
   "metadata": {
    "collapsed": true
   },
   "outputs": [],
   "source": [
    "trainData = pd.read_csv('train_v2.csv', dtype={'StateHoliday': 'str'})\n",
    "storeData = pd.read_csv('store.csv')\n",
    "testData = pd.read_csv('test_v2.csv',  dtype={'StateHoliday': 'str'})\n",
    "# trainData\n",
    "# storeData # NaN values for empty cells..."
   ]
  }
 ],
 "metadata": {
  "kernelspec": {
   "display_name": "Python 3",
   "language": "python",
   "name": "python3"
  },
  "language_info": {
   "codemirror_mode": {
    "name": "ipython",
    "version": 3
   },
   "file_extension": ".py",
   "mimetype": "text/x-python",
   "name": "python",
   "nbconvert_exporter": "python",
   "pygments_lexer": "ipython3",
   "version": "3.6.1"
  }
 },
 "nbformat": 4,
 "nbformat_minor": 1
}
